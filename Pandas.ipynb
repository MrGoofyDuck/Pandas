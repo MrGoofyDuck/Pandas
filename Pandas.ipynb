{
 "cells": [
  {
   "cell_type": "markdown",
   "id": "fea2306a-378c-4448-95b1-f63f621eb857",
   "metadata": {},
   "source": [
    "# 1 Question Which type of data can be used while creating a series object in pandas?"
   ]
  },
  {
   "cell_type": "markdown",
   "id": "43ac4594-4ec6-419d-888b-3306bb60b427",
   "metadata": {},
   "source": [
    "n pandas, a Series is a one-dimensional labeled array that can hold any data type. The data types that can be used while creating a Series object in pandas include:\n",
    "\n",
    "Numeric Types:\n",
    "\n",
    "Integer (int)\n",
    "Float (float)\n",
    "Complex (complex)\n",
    "Datetime Types:\n",
    "\n",
    "datetime64\n",
    "Timedelta Types:\n",
    "\n",
    "timedelta\n",
    "Boolean Type:\n",
    "\n",
    "bool\n",
    "String Types:\n",
    "\n",
    "object (this can include strings, but it's a general type that can hold any Python object)\n",
    "When creating a Series, you can explicitly specify the data type, or pandas will infer the data type based on the values provided. "
   ]
  },
  {
   "cell_type": "markdown",
   "id": "2f71418d-ea5e-444e-bea2-1c453e152acb",
   "metadata": {},
   "source": [
    "# 2 Question Create a series having the month's number as data and assign name as their index values?"
   ]
  },
  {
   "cell_type": "code",
   "execution_count": 40,
   "id": "c5fa679e-0bca-437f-84e6-37af5210bcea",
   "metadata": {},
   "outputs": [
    {
     "name": "stdout",
     "output_type": "stream",
     "text": [
      "January       1\n",
      "February      2\n",
      "March         3\n",
      "April         4\n",
      "May           5\n",
      "June          6\n",
      "July          7\n",
      "August        8\n",
      "September     9\n",
      "October      10\n",
      "November     11\n",
      "December     12\n",
      "dtype: int64\n"
     ]
    }
   ],
   "source": [
    "import pandas as pd\n",
    "s = pd.Series({\n",
    "    'January': 1,\n",
    "    'February': 2,\n",
    "    'March': 3,\n",
    "    'April': 4,\n",
    "    'May': 5,\n",
    "    'June': 6,\n",
    "    'July': 7,\n",
    "    'August': 8,\n",
    "    'September': 9,\n",
    "    'October': 10,\n",
    "    'November': 11,\n",
    "    'December': 12\n",
    "})\n",
    "print(s)\n",
    "\n",
    "    "
   ]
  },
  {
   "cell_type": "markdown",
   "id": "acd83697-b830-4e56-8b95-4f9572e270c2",
   "metadata": {},
   "source": [
    "# 3 Question Write a program to create a series object using the dictionary which store the number of students in fresh batch groups ( MatMIE, Mat DAIS, COMIE, COMEC)?"
   ]
  },
  {
   "cell_type": "code",
   "execution_count": 35,
   "id": "7caf2bfb-da15-43d6-8e8d-bd3c2026551f",
   "metadata": {},
   "outputs": [
    {
     "name": "stdout",
     "output_type": "stream",
     "text": [
      "MATDAIS    29\n",
      "MATMIE     30\n",
      "COMIE      28\n",
      "COMEC      29\n",
      "dtype: int64\n"
     ]
    }
   ],
   "source": [
    "import pandas as pd\n",
    "s=pd.Series({'MATDAIS': 29, 'MATMIE': 30, 'COMIE': 28, 'COMEC': 29  })\n",
    "print(s)\n",
    "\n",
    "\n"
   ]
  },
  {
   "cell_type": "markdown",
   "id": "f35b12fe-53c7-4e6a-8e0d-122bd3fcaa27",
   "metadata": {},
   "source": [
    "# 4 Question Write a Pandas program to create and display a DataFrame from a specified dictionary data which has the index labels.\n",
    "Sample Python dictionary data and list labels:\n",
    "exam_data = {'name': ['Anastasia', 'Dima', 'Katherine', 'James', 'Emily', 'Michael', 'Matthew', 'Laura', 'Kevin', 'Jonas'],\n",
    "'score': [12.5, 9, 16.5, np.nan, 9, 20, 14.5, np.nan, 8, 19],\n",
    "'attempts': [1, 3, 2, 3, 2, 3, 1, 1, 2, 1],\n",
    "'qualify': ['yes', 'no', 'yes', 'no', 'no', 'yes', 'yes', 'no', 'no', 'yes']}\n",
    "labels = ['a', 'b', 'c', 'd', 'e', 'f', 'g', 'h', 'i', 'j']"
   ]
  },
  {
   "cell_type": "code",
   "execution_count": 36,
   "id": "506a2df8-fc06-4548-90dc-be65cd423fef",
   "metadata": {},
   "outputs": [
    {
     "name": "stdout",
     "output_type": "stream",
     "text": [
      "        name  score  attempts qualify\n",
      "a  Anastasia   12.5         1     yes\n",
      "b       Dima    9.0         3      no\n",
      "c  Katherine   16.5         2     yes\n",
      "d      James    NaN         3      no\n",
      "e      Emily    9.0         2      no\n",
      "f    Michael   20.0         3     yes\n",
      "g    Matthew   14.5         1     yes\n",
      "h      Laura    NaN         1      no\n",
      "i      Kevin    8.0         2      no\n",
      "j      Jonas   19.0         1     yes\n"
     ]
    }
   ],
   "source": [
    "import pandas as pd \n",
    "import numpy as np\n",
    "\n",
    "s=pd.DataFrame( {'name': ['Anastasia', 'Dima', 'Katherine', 'James', 'Emily', 'Michael', 'Matthew', 'Laura', 'Kevin', 'Jonas'],\n",
    "'score': [12.5, 9, 16.5, np.nan, 9, 20, 14.5, np.nan, 8, 19],\n",
    "'attempts': [1, 3, 2, 3, 2, 3, 1, 1, 2, 1],\n",
    "'qualify': ['yes', 'no', 'yes', 'no', 'no', 'yes', 'yes', 'no', 'no', 'yes']},\n",
    "index= ['a', 'b', 'c', 'd', 'e', 'f', 'g', 'h', 'i', 'j'] )\n",
    "print(s)\n"
   ]
  },
  {
   "cell_type": "markdown",
   "id": "3d4b35f6-7587-4e98-972b-81e34debe20a",
   "metadata": {},
   "source": [
    "# 5 Write a Pandas program to select the rows where the number of attempts in the examination is greater than 2. \n",
    "Sample Python dictionary data and list labels:\n",
    "exam_data = {'name': ['Anastasia', 'Dima', 'Katherine', 'James', 'Emily', 'Michael', 'Matthew', 'Laura', 'Kevin', 'Jonas'],\n",
    "'score': [12.5, 9, 16.5, np.nan, 9, 20, 14.5, np.nan, 8, 19],\n",
    "'attempts': [1, 3, 2, 3, 2, 3, 1, 1, 2, 1],\n",
    "'qualify': ['yes', 'no', 'yes', 'no', 'no', 'yes', 'yes', 'no', 'no', 'yes']}\n",
    "labels = ['a', 'b', 'c', 'd', 'e', 'f', 'g', 'h', 'i', 'j']"
   ]
  },
  {
   "cell_type": "code",
   "execution_count": 34,
   "id": "2156ae06-c404-42a3-a7b7-7a119babdb80",
   "metadata": {},
   "outputs": [
    {
     "name": "stdout",
     "output_type": "stream",
     "text": [
      "        name  score  attempts qualify\n",
      "a  Anastasia   12.5         1     yes\n",
      "b       Dima    9.0         3      no\n",
      "c  Katherine   16.5         2     yes\n",
      "d      James    NaN         3      no\n",
      "e      Emily    9.0         2      no\n",
      "f    Michael   20.0         3     yes\n",
      "g    Matthew   14.5         1     yes\n",
      "h      Laura    NaN         1      no\n",
      "i      Kevin    8.0         2      no\n",
      "j      Jonas   19.0         1     yes\n",
      "Number upper than 2\n",
      "      name  score  attempts qualify\n",
      "b     Dima    9.0         3      no\n",
      "d    James    NaN         3      no\n",
      "f  Michael   20.0         3     yes\n"
     ]
    }
   ],
   "source": [
    "import pandas as pd \n",
    "import numpy as np \n",
    "s=pd.DataFrame( {'name': ['Anastasia', 'Dima', 'Katherine', 'James', 'Emily', 'Michael', 'Matthew', 'Laura', 'Kevin', 'Jonas'],\n",
    "'score': [12.5, 9, 16.5, np.nan, 9, 20, 14.5, np.nan, 8, 19],\n",
    "'attempts': [1, 3, 2, 3, 2, 3, 1, 1, 2, 1],\n",
    "'qualify': ['yes', 'no', 'yes', 'no', 'no', 'yes', 'yes', 'no', 'no', 'yes']},\n",
    "index = ['a', 'b', 'c', 'd', 'e', 'f', 'g', 'h', 'i', 'j'])\n",
    "print(s)\n",
    "print('Number upper than 2') \n",
    "print (s.loc[s['attempts']>2])"
   ]
  },
  {
   "cell_type": "code",
   "execution_count": null,
   "id": "915f7dab-6235-4e08-9e16-7cab5c216a8a",
   "metadata": {},
   "outputs": [],
   "source": []
  }
 ],
 "metadata": {
  "kernelspec": {
   "display_name": "Python 3 (ipykernel)",
   "language": "python",
   "name": "python3"
  },
  "language_info": {
   "codemirror_mode": {
    "name": "ipython",
    "version": 3
   },
   "file_extension": ".py",
   "mimetype": "text/x-python",
   "name": "python",
   "nbconvert_exporter": "python",
   "pygments_lexer": "ipython3",
   "version": "3.12.1"
  }
 },
 "nbformat": 4,
 "nbformat_minor": 5
}
